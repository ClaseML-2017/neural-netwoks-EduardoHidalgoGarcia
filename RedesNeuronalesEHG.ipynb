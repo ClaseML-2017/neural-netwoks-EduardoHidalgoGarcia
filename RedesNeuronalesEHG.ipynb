{
 "cells": [
  {
   "cell_type": "code",
   "execution_count": 2,
   "metadata": {},
   "outputs": [
    {
     "name": "stdout",
     "output_type": "stream",
     "text": [
      "b'Hello, TensorFlow!'\n"
     ]
    }
   ],
   "source": [
    "import tensorflow as tf\n",
    "hello = tf.constant('Hello, TensorFlow!')\n",
    "sess = tf.Session()\n",
    "print(sess.run(hello))\n"
   ]
  },
  {
   "cell_type": "code",
   "execution_count": 3,
   "metadata": {
    "collapsed": true
   },
   "outputs": [],
   "source": [
    "import matplotlib.pyplot as plt\n",
    "%matplotlib inline\n",
    "import numpy as np"
   ]
  },
  {
   "cell_type": "markdown",
   "metadata": {},
   "source": [
    "<p>Ejemplo de red neuronal con 2 capas y funcion de salida $ g(x) $ Sigmoide (o funcion de regresion logística) </p>\n",
    "<p>Ejemplo con el conjunto de información definido por las notas de la clase RedesNeuronales17Eng.pdf</p>"
   ]
  },
  {
   "cell_type": "code",
   "execution_count": 4,
   "metadata": {
    "collapsed": true
   },
   "outputs": [],
   "source": [
    "X=np.asarray([[0,0],[0,1],[1,0],[1,1]])\n",
    "Y=np.asarray([[0],[0],[0],[1]])"
   ]
  },
  {
   "cell_type": "markdown",
   "metadata": {},
   "source": [
    "<p>En esta parte se declara :</p>\n",
    "1. El numero de neuronas en la capa de inicio\n",
    "2. El numero de elementos en el conjunto de salida\n",
    "3. Los inputs necesarios para el calculo"
   ]
  },
  {
   "cell_type": "code",
   "execution_count": 5,
   "metadata": {
    "collapsed": true
   },
   "outputs": [],
   "source": [
    "?tf.random_uniform([input_size,output_layer_size], -1, 1)"
   ]
  },
  {
   "cell_type": "code",
   "execution_count": 6,
   "metadata": {
    "collapsed": true
   },
   "outputs": [],
   "source": [
    "input_size=2\n",
    "output_layer_size=1\n",
    "#Los tf.placeholders son para los datos de entrada\n",
    "x = tf.placeholder(tf.float32,[None,input_size])\n",
    "y_ = tf.placeholder(tf.float32,[None,output_layer_size])\n",
    "#La variable para la que se va a ir recalculando\n",
    "W_layer1=tf.Variable(tf.random_uniform([input_size,output_layer_size],-1,1), name=\"W_layer1\")\n",
    "b_layer1=tf.Variable(tf.zeros([output_layer_size]), name=\"b_layer\")"
   ]
  },
  {
   "cell_type": "markdown",
   "metadata": {},
   "source": [
    "Funcion de transferencia de tipo Sigmoide que recibe como entrada  el producto de la proyección lineal con los pesos iniciales y los va actualizando"
   ]
  },
  {
   "cell_type": "code",
   "execution_count": 7,
   "metadata": {
    "collapsed": true
   },
   "outputs": [],
   "source": [
    "y=tf.nn.sigmoid(tf.matmul(x,W_layer1)+b_layer1)"
   ]
  },
  {
   "cell_type": "markdown",
   "metadata": {},
   "source": [
    "Funcion de pérdida"
   ]
  },
  {
   "cell_type": "code",
   "execution_count": 8,
   "metadata": {
    "collapsed": true
   },
   "outputs": [],
   "source": [
    "lossfn=tf.reduce_mean(tf.reduce_sum(y_-y)**2)"
   ]
  },
  {
   "cell_type": "markdown",
   "metadata": {},
   "source": [
    "Funcion de Entrenamiento"
   ]
  },
  {
   "cell_type": "code",
   "execution_count": 9,
   "metadata": {
    "collapsed": true
   },
   "outputs": [],
   "source": [
    "train_step = tf.train.GradientDescentOptimizer(0.01).minimize(lossfn)"
   ]
  },
  {
   "cell_type": "markdown",
   "metadata": {},
   "source": [
    "Inicializa las variables y la sesion "
   ]
  },
  {
   "cell_type": "code",
   "execution_count": 10,
   "metadata": {},
   "outputs": [
    {
     "name": "stdout",
     "output_type": "stream",
     "text": [
      "WARNING:tensorflow:From C:\\Users\\Eduardo\\Anaconda3\\lib\\site-packages\\tensorflow\\python\\util\\tf_should_use.py:170: initialize_all_variables (from tensorflow.python.ops.variables) is deprecated and will be removed after 2017-03-02.\n",
      "Instructions for updating:\n",
      "Use `tf.global_variables_initializer` instead.\n"
     ]
    }
   ],
   "source": [
    "init = tf.initialize_all_variables()\n",
    "sess=tf.Session()"
   ]
  },
  {
   "cell_type": "markdown",
   "metadata": {},
   "source": [
    "Activando la session de TensorFlow para hacer el entrenamiento"
   ]
  },
  {
   "cell_type": "code",
   "execution_count": 11,
   "metadata": {
    "collapsed": true
   },
   "outputs": [],
   "source": [
    "sess.run(init)\n",
    "for i in range(5000):\n",
    "    sess.run(train_step,feed_dict={x:X,y_:Y})"
   ]
  },
  {
   "cell_type": "code",
   "execution_count": 12,
   "metadata": {},
   "outputs": [
    {
     "name": "stdout",
     "output_type": "stream",
     "text": [
      "[[ 0.24966639]]\n"
     ]
    }
   ],
   "source": [
    "print(sess.run(y,feed_dict={x:[[0.8,0.5]]}))"
   ]
  },
  {
   "cell_type": "code",
   "execution_count": 13,
   "metadata": {},
   "outputs": [
    {
     "name": "stdout",
     "output_type": "stream",
     "text": [
      "[[ 0.062817  ]\n",
      " [-0.57066077]]\n"
     ]
    }
   ],
   "source": [
    "print(sess.run(W_layer1, feed_dict={x: X, y_: Y}))"
   ]
  },
  {
   "cell_type": "markdown",
   "metadata": {
    "collapsed": true
   },
   "source": [
    "Más defiiniciones Perdiccion "
   ]
  },
  {
   "cell_type": "markdown",
   "metadata": {
    "collapsed": true
   },
   "source": [
    "Cuantificando el error"
   ]
  },
  {
   "cell_type": "code",
   "execution_count": 15,
   "metadata": {
    "collapsed": true
   },
   "outputs": [],
   "source": [
    "correct_prediction = tf.equal(tf.round(y),y_)\n",
    "accuracy = tf.reduce_mean(tf.cast(correct_prediction, tf.float32))"
   ]
  },
  {
   "cell_type": "code",
   "execution_count": 16,
   "metadata": {},
   "outputs": [
    {
     "name": "stdout",
     "output_type": "stream",
     "text": [
      "0.75\n"
     ]
    }
   ],
   "source": [
    "print(sess.run(accuracy,feed_dict={x:X,y_:Y}))"
   ]
  },
  {
   "cell_type": "markdown",
   "metadata": {
    "collapsed": true
   },
   "source": [
    "Vizualizando la Barrera de Decisión. Para ello es necesario extraer las w's del grafo de Tensorflow"
   ]
  },
  {
   "cell_type": "code",
   "execution_count": 17,
   "metadata": {},
   "outputs": [],
   "source": [
    "w=[sess.run(b_layer1,feed_dict={x:X,y_:Y})[0]]+[i[0] for i in sess.run(W_layer1,feed_dict={x:X,y_:Y})]"
   ]
  },
  {
   "cell_type": "markdown",
   "metadata": {},
   "source": [
    "<p>Usemos los pesos para predecir el valro del la linea clasificadora (nota.- los pesos son los que fueron entrenados con la red neuronal en tensorflow)</p>\n",
    "<p> $ w^{T}*X = B \\Rightarrow ^{} w_{0}+w_{1}x_{1}^{i}+w_{2}x_{2}^{i}=B \\Rightarrow ^{}  \\overbrace{w_{0}} +w_{1}x_{1}^{i}+w_{2}x_{2}^{i}=0  $ </p>\n",
    "<p> Por lo que la ecuacion anterior define la Barrera de Decision. Y su ordenada y coordenada al origen corresonpen a:</p>\n",
    "$$ X_{1} =  - \\frac{\\overbrace{w_{0}}+w_{2}x_{2}^{i}}{w_{1}}     $$\n",
    "<p> y </p>\n",
    "$$ X_{2} = - \\frac{\\overbrace{w_{0}}+w_{1}x_{1}^{i}}{w_{2}} $$\n",
    "<p> Por lo tanto : </p>\n",
    "$$ x_{1}= 0  \\Rightarrow ^{} (0,- \\frac{\\overbrace{w_{0}}}{w_{1}} ) $$\n",
    "<p> y </p>\n",
    "$$ x_{2}= 0  \\Rightarrow ^{} (- \\frac{\\overbrace{w_{0}}}{w_{2}}, 0) $$\n",
    "<p> Por último la pendiente es igual a : </p>\n",
    "$$ m = \\frac{\\partial x_{2} }{\\partial x_{1}} =  - \\frac{w_{1}}{w_{2}} $$\n",
    "\n",
    "<p>Ahora podemos definir a la recta que pasa por los puntos: $  (0,- \\frac{\\overbrace{w_{0}}}{w_{1}} ) $, $   (- \\frac{\\overbrace{w_{0}}}{w_{2}}, 0)  $ y que tiene pendiente $ m = - \\frac{\\overbrace{w_{1}}}{w_{2}} $, usando los resultados anteriores $x_{1}=0 $ y $ x_{2}= - \\frac{w_{0}}{w_{2}}$: </p>\n",
    "$$ \\Rightarrow ^{}  x_{2} - \\frac{w_{0}}{w_{2}} = m(x_{1}-0 )    $$\n",
    "$$   \\Rightarrow ^{}   x_{2} =   - \\frac{w_{1}}{w_{2}}x_{1}  +\\frac{\\overbrace{w_{0}}}{w_{2}}                    $$\n"
   ]
  },
  {
   "cell_type": "code",
   "execution_count": 38,
   "metadata": {},
   "outputs": [
    {
     "name": "stdout",
     "output_type": "stream",
     "text": [
      "La pendiente m es igual a :\n"
     ]
    },
    {
     "data": {
      "text/plain": [
       "0.11007766"
      ]
     },
     "execution_count": 38,
     "metadata": {},
     "output_type": "execute_result"
    }
   ],
   "source": [
    "#Calculamos la pendiente\n",
    "m=-w[1]/w[2]\n",
    "print(\"La pendiente m es igual a :\")\n",
    "m"
   ]
  },
  {
   "cell_type": "code",
   "execution_count": 22,
   "metadata": {},
   "outputs": [
    {
     "name": "stdout",
     "output_type": "stream",
     "text": [
      "La ordenada al origen a  es igual a \n"
     ]
    },
    {
     "data": {
      "text/plain": [
       "1.5163395"
      ]
     },
     "execution_count": 22,
     "metadata": {},
     "output_type": "execute_result"
    }
   ],
   "source": [
    "print(\"La ordenada al origen a  es igual a \")\n",
    "w[0]/w[2]"
   ]
  },
  {
   "cell_type": "code",
   "execution_count": 25,
   "metadata": {},
   "outputs": [
    {
     "name": "stdout",
     "output_type": "stream",
     "text": [
      "El punto faltante :\n"
     ]
    },
    {
     "data": {
      "text/plain": [
       "(0, 13.77518)"
      ]
     },
     "execution_count": 25,
     "metadata": {},
     "output_type": "execute_result"
    }
   ],
   "source": [
    "print(\"El punto faltante :\")\n",
    "(0,-w[0]/w[1])"
   ]
  },
  {
   "cell_type": "code",
   "execution_count": 27,
   "metadata": {},
   "outputs": [
    {
     "name": "stdout",
     "output_type": "stream",
     "text": [
      "El punto faltante :\n"
     ]
    },
    {
     "data": {
      "text/plain": [
       "(-1.5163395, 0)"
      ]
     },
     "execution_count": 27,
     "metadata": {},
     "output_type": "execute_result"
    }
   ],
   "source": [
    "print(\"El punto faltante :\")\n",
    "(-w[0]/w[2],0)"
   ]
  },
  {
   "cell_type": "code",
   "execution_count": 44,
   "metadata": {},
   "outputs": [
    {
     "data": {
      "text/plain": [
       "(-5.2, 5.2)"
      ]
     },
     "execution_count": 44,
     "metadata": {},
     "output_type": "execute_result"
    },
    {
     "data": {
      "image/png": "[encoded data removed]",
      "text/plain": [
       "<matplotlib.figure.Figure at 0x21b4152e358>"
      ]
     },
     "metadata": {},
     "output_type": "display_data"
    }
   ],
   "source": [
    "plt.scatter(X[:,0],X[:,1],c=['red' if i == 1 else 'blue' for i in Y])\n",
    "x1=np.linspace(-5.2,5.2,100)\n",
    "plt.plot(x1,+w[0]/w[2]-m*x1,color='red')\n",
    "plt.ylim([-5.2,5.2])\n",
    "plt.xlim([-5.2,5.2])"
   ]
  },
  {
   "cell_type": "code",
   "execution_count": 43,
   "metadata": {
    "collapsed": true
   },
   "outputs": [],
   "source": [
    "?np.linspace"
   ]
  },
  {
   "cell_type": "code",
   "execution_count": 45,
   "metadata": {
    "collapsed": true
   },
   "outputs": [],
   "source": [
    "sess.close()"
   ]
  },
  {
   "cell_type": "markdown",
   "metadata": {},
   "source": [
    "Funcion XOR\n",
    "Clasificador basado en redes neuronales"
   ]
  },
  {
   "cell_type": "code",
   "execution_count": null,
   "metadata": {
    "collapsed": true
   },
   "outputs": [],
   "source": []
  }
 ],
 "metadata": {
  "kernelspec": {
   "display_name": "Python 3",
   "language": "python",
   "name": "python3"
  },
  "language_info": {
   "codemirror_mode": {
    "name": "ipython",
    "version": 3
   },
   "file_extension": ".py",
   "mimetype": "text/x-python",
   "name": "python",
   "nbconvert_exporter": "python",
   "pygments_lexer": "ipython3",
   "version": "3.6.1"
  }
 },
 "nbformat": 4,
 "nbformat_minor": 2
}
